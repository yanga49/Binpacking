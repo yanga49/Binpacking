{
 "cells": [
  {
   "cell_type": "markdown",
   "id": "d0f21658-40c8-40c9-99d2-ec8c0b42e84f",
   "metadata": {
    "pycharm": {
     "name": "#%% md\n"
    }
   },
   "source": [
    "# Bin Packing Lab"
   ]
  },
  {
   "cell_type": "markdown",
   "id": "f9ffdec9-9fcb-4a7b-910e-abecc6352210",
   "metadata": {
    "pycharm": {
     "name": "#%% md\n"
    }
   },
   "source": [
    "- Authors:\n",
    "  - Akanksha Nehete, nehetea@mcmaster.ca\n",
    "  - Anna Yang, yanga49@mcmaster.ca\n",
    "  - Hamna Malik, malikh32@mcmaster.ca\n",
    "- Group ID on Avenue: 19 \n",
    "- Gitlab URL: https://gitlab.cas.mcmaster.ca/nehetea/l2-bin-packing"
   ]
  },
  {
   "cell_type": "markdown",
   "id": "61ba5415",
   "metadata": {},
   "source": [
    "# Library Demonstration"
   ]
  },
  {
   "cell_type": "code",
   "execution_count": 112,
   "id": "2166b346-058f-4619-9072-e6fbe608fa0e",
   "metadata": {
    "pycharm": {
     "name": "#%%\n"
    }
   },
   "outputs": [],
   "source": [
    "from macpacking.reader import DatasetReader, BinppReader, JburkardtReader\n",
    "from macpacking.model  import Online, Offline\n",
    "import macpacking.algorithms.offline as offline\n",
    "from macpacking.__init__ import WeightSet, WeightStream # remove this when submitting"
   ]
  },
  {
   "cell_type": "code",
   "execution_count": 113,
   "id": "21df8c2c-a6fa-434b-88c3-361404872819",
   "metadata": {
    "pycharm": {
     "name": "#%%\n"
    }
   },
   "outputs": [
    {
     "name": "stdout",
     "output_type": "stream",
     "text": [
      "Dataset: _datasets/binpp/N1C1W1/N1C1W1_A.BPP.txt\n",
      "  - Bin Capacity: 100\n",
      "  - Objects to pack: [3, 7, 7, 10, 11, 13, 14, 17, 20, 21, 22, 23, 24, 25, 27, 28, 28, 29, 30, 30, 33, 33, 40, 40, 42, 44, 46, 49, 51, 52, 56, 61, 62, 67, 67, 69, 72, 74, 76, 85, 86, 87, 88, 91, 92, 92, 96, 96, 99, 99]\n"
     ]
    }
   ],
   "source": [
    "# demonstrating the reader for binpp and binpp-hard\n",
    "dataset = '_datasets/binpp/N1C1W1/N1C1W1_A.BPP.txt'\n",
    "reader: DatasetReader = BinppReader(dataset)\n",
    "print(f'Dataset: {dataset}')\n",
    "print(f'  - Bin Capacity: {reader.offline()[0]}')\n",
    "print(f'  - Objects to pack: {sorted(reader.offline()[1])}')"
   ]
  },
  {
   "cell_type": "markdown",
   "id": "94af42df",
   "metadata": {},
   "source": [
    "## T1: Implementation of Jburkardt Reader and Most Terrible Binpacking Algorithm\n",
    "See Report Body under code for explanation"
   ]
  },
  {
   "cell_type": "code",
   "execution_count": 114,
   "id": "8a0034c4",
   "metadata": {
    "pycharm": {
     "name": "#%%\n"
    }
   },
   "outputs": [
    {
     "name": "stdout",
     "output_type": "stream",
     "text": [
      "Dataset: _datasets/jburkardt/p04_c.txt, _datasets/jburkardt/p04_w.txt\n",
      "  - Bin Capacity: 524\n",
      "  - Objects to pack: [9, 9, 10, 10, 10, 10, 10, 10, 12, 12, 12, 37, 37, 46, 84, 85, 106, 106, 106, 106, 127, 127, 127, 127, 127, 252, 252, 252, 252, 252, 252, 252, 442]\n"
     ]
    }
   ],
   "source": [
    "# implementation of reader for jburkardt\n",
    "datasetc = '_datasets/jburkardt/p04_c.txt'\n",
    "datasetw = '_datasets/jburkardt/p04_w.txt'\n",
    "reader: DatasetReader = JburkardtReader(datasetw, datasetc)\n",
    "print(f'Dataset: {datasetc}, {datasetw}')\n",
    "print(f'  - Bin Capacity: {reader.offline()[0]}')\n",
    "print(f'  - Objects to pack: {sorted(reader.offline()[1])}')"
   ]
  },
  {
   "cell_type": "code",
   "execution_count": 115,
   "id": "5e247325",
   "metadata": {},
   "outputs": [
    {
     "name": "stdout",
     "output_type": "stream",
     "text": [
      "nb_bins = 33\n",
      "[[9], [9], [10], [10], [10], [10], [10], [10], [12], [12], [12], [37], [37], [46], [84], [85], [106], [106], [106], [106], [127], [127], [127], [127], [127], [252], [252], [252], [252], [252], [252], [252], [442]]\n"
     ]
    }
   ],
   "source": [
    "# demonstrating online implementation of most terrible binpacking algorithm\n",
    "import macpacking.algorithms.online as online\n",
    "strategy: Online = online.MostTerrible()\n",
    "result = strategy(reader.offline())\n",
    "print(f'nb_bins = {len(result[\"solution\"])}')\n",
    "print(f'{sorted(result[\"solution\"])}')"
   ]
  },
  {
   "cell_type": "markdown",
   "id": "5f6ac256",
   "metadata": {},
   "source": [
    "## T2: Implementation and BenchMarking of Algorithms\n",
    "See Report body for Explanation"
   ]
  },
  {
   "cell_type": "code",
   "execution_count": 116,
   "id": "6358d7c1-1777-4c63-af33-d4ebfea952a7",
   "metadata": {
    "pycharm": {
     "name": "#%%\n"
    }
   },
   "outputs": [
    {
     "name": "stdout",
     "output_type": "stream",
     "text": [
      "nb_bins = 8\n",
      "[[10, 9, 9], [106, 106, 106, 85, 84, 37], [127, 127, 127, 106, 37], [252, 127, 127, 12], [252, 252, 10, 10], [252, 252, 12], [252, 252, 12], [442, 46, 10, 10, 10]]\n"
     ]
    }
   ],
   "source": [
    "# finding the optimal solution using baseline\n",
    "import macpacking.algorithms.baseline as baseline\n",
    "strategy: Offline = baseline.BenMaier()\n",
    "result = strategy(reader.offline())\n",
    "print(f'nb_bins = {len(result)}')\n",
    "print(f'{sorted(result)}')"
   ]
  },
  {
   "cell_type": "code",
   "execution_count": 117,
   "id": "fd41ee02",
   "metadata": {},
   "outputs": [
    {
     "name": "stdout",
     "output_type": "stream",
     "text": [
      "nb_bins = 8\n",
      "[[46, 37, 37, 12, 12, 12, 10, 10, 10, 10, 10, 10, 9, 9], [106, 106, 106, 85, 84], [127, 127, 127, 106], [252, 127, 127], [252, 252], [252, 252], [252, 252], [442]]\n"
     ]
    }
   ],
   "source": [
    "# demonstrating usage of offline version of NextFit algorithm\n",
    "import macpacking.algorithms.online as online\n",
    "strategy: Offline = offline.NextFitDecreasing()\n",
    "result = strategy(reader.offline())\n",
    "print(f'nb_bins = {len(result[\"solution\"])}')\n",
    "print(f'{sorted(result[\"solution\"])}')"
   ]
  },
  {
   "cell_type": "code",
   "execution_count": 118,
   "id": "bd49172b",
   "metadata": {},
   "outputs": [
    {
     "name": "stdout",
     "output_type": "stream",
     "text": [
      "nb_bins = 8\n",
      "[[10, 252, 127, 106, 10], [46, 12, 127, 10, 12, 252, 10], [85, 37, 252, 10], [106, 84, 252], [127, 37, 106, 127, 106], [252, 10, 9, 127, 12], [252, 252], [442, 9]]\n"
     ]
    }
   ],
   "source": [
    "# demonstrating usage of online version of NextFit algorithm\n",
    "import macpacking.algorithms.online as online\n",
    "strategy: Online = online.NextFit()\n",
    "result = strategy(reader.offline())\n",
    "print(f'nb_bins = {len(result[\"solution\"])}')\n",
    "print(f'{sorted(result[\"solution\"])}')"
   ]
  },
  {
   "cell_type": "code",
   "execution_count": 119,
   "id": "9d603303",
   "metadata": {},
   "outputs": [
    {
     "name": "stdout",
     "output_type": "stream",
     "text": [
      "nb_bins = 7\n",
      "[[106, 106, 106, 85, 84, 37], [127, 127, 127, 106, 37], [252, 127, 127, 9, 9], [252, 252, 10, 10], [252, 252, 10, 10], [252, 252, 10, 10], [442, 46, 12, 12, 12]]\n"
     ]
    }
   ],
   "source": [
    "# demonstrating usage of offline version of FirstFit algorithm\n",
    "import macpacking.algorithms.offline as offline\n",
    "strategy: Offline = offline.FirstFitDecreasing()\n",
    "result = strategy(reader.online())\n",
    "print(f'nb_bins = {len(result[\"solution\"])}')\n",
    "print(f'{sorted(result[\"solution\"])}')"
   ]
  },
  {
   "cell_type": "code",
   "execution_count": 120,
   "id": "8d9ebae6",
   "metadata": {},
   "outputs": [
    {
     "name": "stdout",
     "output_type": "stream",
     "text": [
      "nb_bins = 8\n",
      "[[10, 252, 127, 106, 10, 12], [46, 127, 12, 252, 9, 37, 10, 10, 9, 12], [85, 252, 127], [106, 84, 252], [127, 37, 106, 127, 106, 10, 10], [252], [252, 252], [442]]\n"
     ]
    }
   ],
   "source": [
    "# demonstrating usage of online version of FirstFit algorithm\n",
    "import macpacking.algorithms.online as online\n",
    "strategy: Online = online.FirstFit()\n",
    "result = strategy(reader.online())\n",
    "print(f'nb_bins = {len(result[\"solution\"])}')\n",
    "print(f'{sorted(result[\"solution\"])}')"
   ]
  },
  {
   "cell_type": "code",
   "execution_count": 121,
   "id": "c79d401f",
   "metadata": {},
   "outputs": [
    {
     "name": "stdout",
     "output_type": "stream",
     "text": [
      "nb_bins = 8\n",
      "[[10, 9, 9], [106, 106, 106, 85, 84, 37], [127, 127, 127, 106, 37], [252, 127, 127, 12], [252, 252, 10, 10], [252, 252, 12], [252, 252, 12], [442, 46, 10, 10, 10]]\n"
     ]
    }
   ],
   "source": [
    "# demonstrating usage of offline version of BestFit algorithm\n",
    "import macpacking.algorithms.offline as offline\n",
    "strategy: Offline = offline.BestFitDecreasing()\n",
    "result = strategy(reader.online())\n",
    "print(f'nb_bins = {len(result[\"solution\"])}')\n",
    "print(f'{sorted(result[\"solution\"])}')"
   ]
  },
  {
   "cell_type": "code",
   "execution_count": 122,
   "id": "1dc1ff1b",
   "metadata": {},
   "outputs": [
    {
     "name": "stdout",
     "output_type": "stream",
     "text": [
      "nb_bins = 8\n",
      "[[10, 252, 127, 106, 10, 12], [46, 127, 12, 252, 84], [106, 252, 85], [127, 37, 106, 127, 106, 10, 10], [127, 252], [252], [252, 252, 10, 9], [442, 9, 37, 10, 12]]\n"
     ]
    }
   ],
   "source": [
    "# demonstrating usage of online version of BestFit algorithm\n",
    "import macpacking.algorithms.online as online\n",
    "strategy: Online = online.BestFit()\n",
    "result = strategy(reader.online())\n",
    "print(f'nb_bins = {len(result[\"solution\"])}')\n",
    "print(f'{sorted(result[\"solution\"])}')"
   ]
  },
  {
   "cell_type": "code",
   "execution_count": 123,
   "id": "3b8891b2",
   "metadata": {},
   "outputs": [
    {
     "name": "stdout",
     "output_type": "stream",
     "text": [
      "nb_bins = 8\n",
      "[[9, 9], [106, 106, 106, 85, 84, 37], [127, 127, 127, 106, 37], [252, 127, 127, 10], [252, 252, 10, 10], [252, 252, 10, 10], [252, 252, 12], [442, 46, 12, 12, 10]]\n"
     ]
    }
   ],
   "source": [
    "# demonstrating usage of offline version of WorstFit algorithm\n",
    "import macpacking.algorithms.offline as offline\n",
    "strategy: Offline = offline.WorstFitDecreasing()\n",
    "result = strategy(reader.online())\n",
    "print(f'nb_bins = {len(result[\"solution\"])}')\n",
    "print(f'{sorted(result[\"solution\"])}')"
   ]
  },
  {
   "cell_type": "code",
   "execution_count": 124,
   "id": "89a99f24",
   "metadata": {},
   "outputs": [
    {
     "name": "stdout",
     "output_type": "stream",
     "text": [
      "nb_bins = 8\n",
      "[[10, 252, 127, 106, 10], [46, 12, 127, 10, 12, 252, 10], [85, 37, 252, 10, 12], [106, 84, 252], [127, 37, 106, 127, 106], [252, 10, 9, 127], [252, 252], [442, 9]]\n"
     ]
    }
   ],
   "source": [
    "# demonstrating usage of online version of WorstFit algorithm\n",
    "import macpacking.algorithms.online as online\n",
    "strategy: Online = online.WorstFit()\n",
    "result = strategy(reader.online())\n",
    "print(f'nb_bins = {len(result[\"solution\"])}')\n",
    "print(f'{sorted(result[\"solution\"])}')"
   ]
  },
  {
   "cell_type": "markdown",
   "id": "8e58e98a",
   "metadata": {},
   "source": [
    "## T3: Measuring Improvement Margin\n",
    "See Report body for further explanation of graphs etc. The graph will open in a new window, so thats why it's not showing in the Jupyter notebook"
   ]
  },
  {
   "cell_type": "code",
   "execution_count": 125,
   "id": "a81e4cc8",
   "metadata": {},
   "outputs": [
    {
     "name": "stdout",
     "output_type": "stream",
     "text": [
      "\n",
      "N1C1W1_A is not optimal\n",
      "N1C1W1_B is not optimal\n",
      "N1C1W1_C is not optimal\n",
      "N1C1W1_D is not optimal\n",
      "N1C1W1_E is not optimal\n",
      "N1C1W1_F is not optimal\n",
      "N1C1W1_G is not optimal\n",
      "N1C1W1_H is not optimal\n",
      "N1C1W1_I is not optimal\n",
      "N1C1W1_J is not optimal\n",
      "N1C1W1_K is not optimal\n",
      "N1C1W1_L is not optimal\n",
      "N1C1W1_M is not optimal\n",
      "N1C1W1_N is not optimal\n",
      "N1C1W1_O is not optimal\n",
      "N1C1W1_P is not optimal\n",
      "N1C1W1_Q is not optimal\n",
      "N1C1W1_R is not optimal\n",
      "N1C1W1_S is not optimal\n",
      "N1C1W1_T is not optimal\n"
     ]
    }
   ],
   "source": [
    "from improvement_margin import Margin\n",
    "from macpacking.algorithms.online import NextFit, MostTerrible, WorstFit, BestFit, RefinedFirstFit\n",
    "from macpacking.algorithms.offline import NextFitDecreasing, WorstFitDecreasing, BestFitDecreasing, RefinedFirstFitDecreasing\n",
    "\n",
    "# Margin class for the determination of of improvement margins for a specified algorithm \n",
    "test_binpp = Margin('optimal_solutions/binpp.csv', NextFit(), 'Next Fit', True, 'N1C1W1')\n",
    "# displays continous results, i.e graph representing the difference of bins from optimal (the graph is displayed in a new window)\n",
    "# ** CLOSE THE GRAPH WINDOW SO THE CELL CAN CONTINUE RUNNING\n",
    "#test_binpp.display_continuous()\n",
    "# displays discrete results, i.e whether the solution is optimal or not\n",
    "test_binpp.display_discrete()\n"
   ]
  },
  {
   "cell_type": "markdown",
   "id": "a132d202",
   "metadata": {},
   "source": [
    "## T4: Add Smarter Algorithms\n",
    "See Report body for further explation of algortithm and KPI graphs."
   ]
  },
  {
   "cell_type": "code",
   "execution_count": 126,
   "id": "32979df7",
   "metadata": {},
   "outputs": [
    {
     "name": "stdout",
     "output_type": "stream",
     "text": [
      "nb_bins = 8\n",
      "[[10, 127, 106, 10, 127, 37, 106], [106, 84, 85, 9, 127, 12], [127, 106, 46, 12, 127, 10, 12, 10, 9, 37, 10, 10], [252], [252, 252], [252, 252], [252, 252], [442]]\n"
     ]
    }
   ],
   "source": [
    "# demonstrating usage of online version of the Refined First Fit algorithm\n",
    "import macpacking.algorithms.online as online\n",
    "strategy: Online = online.RefinedFirstFit()\n",
    "result = strategy(reader.online())\n",
    "print(f'nb_bins = {len(result[\"solution\"])}')\n",
    "print(f'{sorted(result[\"solution\"])}')"
   ]
  },
  {
   "cell_type": "code",
   "execution_count": 127,
   "id": "73e68be4",
   "metadata": {},
   "outputs": [
    {
     "name": "stdout",
     "output_type": "stream",
     "text": [
      "nb_bins = 8\n",
      "[[106, 85, 84, 37, 37, 10, 10, 10, 10, 10, 10, 9], [127, 106, 106, 106, 46, 12, 12, 9], [127, 127, 127, 127, 12], [252], [252, 252], [252, 252], [252, 252], [442]]\n"
     ]
    }
   ],
   "source": [
    "# demonstrating usage of offline version of the Refined First Fit algorithm\n",
    "import macpacking.algorithms.offline as offline\n",
    "strategy: Offline = offline.RefinedFirstFitDecreasing()\n",
    "result = strategy(reader.online())\n",
    "print(f'nb_bins = {len(result[\"solution\"])}')\n",
    "print(f'{sorted(result[\"solution\"])}')"
   ]
  },
  {
   "cell_type": "markdown",
   "id": "565ab1ec",
   "metadata": {},
   "source": [
    "## T5: From Fixed Capacity to Fixed Bins\n",
    "See Report body for further explation of algorithm and KPI graphs."
   ]
  },
  {
   "cell_type": "code",
   "execution_count": 128,
   "id": "8d89c860",
   "metadata": {},
   "outputs": [
    {
     "name": "stdout",
     "output_type": "stream",
     "text": [
      "nb_bins = 8\n",
      "[[252, 106, 106], [252, 106, 106], [252, 127, 37, 12, 10, 10], [252, 127, 37, 12, 10, 10, 9], [252, 127, 46, 12, 10, 9], [252, 127, 84], [252, 127, 85], [442, 10]]\n"
     ]
    }
   ],
   "source": [
    "# demonstrating the baseline integrated using the to_constant_volume() function in the binpacking \n",
    "# library that attempts to solve the problem of multiway number partitioning\n",
    "import macpacking.algorithms.baseline as baseline\n",
    "# initializing number of bins by passing argument into ConstantBinNumber\n",
    "strategy: Offline = baseline.ConstantBinNumber(num_bins=8)\n",
    "result = strategy(reader.offline())\n",
    "print(f'nb_bins = {len(result)}')\n",
    "print(f'{sorted(result)}')"
   ]
  },
  {
   "cell_type": "code",
   "execution_count": 129,
   "id": "8dd069f7",
   "metadata": {},
   "outputs": [
    {
     "name": "stdout",
     "output_type": "stream",
     "text": [
      "nb_bins = 8\n",
      "[[10, 106, 10, 9, 252], [10, 127, 85, 252], [37, 46, 12, 127, 10, 252], [106, 10, 252], [106, 12, 442], [127, 84, 37, 127], [127, 106, 10, 9, 252], [252, 12, 252]]\n"
     ]
    }
   ],
   "source": [
    "# demonstrating the Greedy Algorithm compares with the baseline for multiway number partitioning\n",
    "import macpacking.algorithms.online as online\n",
    "strategy: Offline = offline.GreedyHeuristic(num_bins=8)\n",
    "result = strategy(reader.offline())\n",
    "print(f'nb_bins = {len(result[\"solution\"])}')\n",
    "print(f'{sorted(result[\"solution\"])}')"
   ]
  },
  {
   "cell_type": "markdown",
   "id": "7a130e43",
   "metadata": {},
   "source": [
    "# Report"
   ]
  },
  {
   "cell_type": "markdown",
   "id": "aabe0579",
   "metadata": {},
   "source": [
    "### T1 Explanation \n",
    "\n",
    "#### Dataset Explanation\n",
    "There are three datasets included in the repository: binpp, binpp-hard, and jburkardt. Binpp and binpp-hard have the same format, they are given as a long text file in which every line is an integer. The first number represents the number of objects that need to be packed, and the second line represents the maximum weight or capacity a bin can hold. Every subsequent line in the file represents the weight of an object that needs to be packed. Let n be the number of objects that need to be packed and let c be the maximum capacity of the bin. In binpp, n = 50, 100, 200, 500 and c = 100, 120, and 150. Binpp-hard has the same formatting, but the values of n = 200 and c = 100000. In the jburkhardt dataset, the file system is arranged a little differently than the binpp one as there are 3 files for every problem. For problems p01, p02, and p03, c = 100 and n ranges from 9 to 14. For problem p04, c = 524 and n = 33. For each problem, the file ending with c contains the capacity number and the file ending with w contains the weights of the objects that need to be packed. The s file contains an assignment of weights. The values of the n parameter are important to evaluate algorithm performance, as the time complexity of the problem is in terms of n. The longer n is, the longer the algorithm will take to find the number of bins needed to optimally pack the n items.\n",
    "\n",
    "#### SOLID Principles Explanation of UML Diagram\n",
    "\n",
    "- Single responsibility\n",
    "The separation of online and offline algorithms implements the single responsibility principle, as all Online and Offline algorithms will be separated into their respective files.\n",
    "Each implementation of a bin packing algorithm is given its own class with its own functions it will use to perform bin packing. By separating each algorithm into its own class with its own functions, the single responsibility principle is followed.\n",
    "- Open closed\n",
    "The use of a BinPacker interface for the bin packing algorithms as well as the separation of Online and Offline algorithms uses the open-closed principle. The program is open to extension of new algorithm classes, but it is closed to modification as BinPacker, Online, and Offline need not be modified in order to accommodate for the addition of algorithms.\n",
    "- Interface segregation\n",
    "Interface segregation was used by the implementation of the BinPacker interface. This interface separates Online and Offline bin packing algorithms, allowing the user to access any of the Online or Offline implementations easily.\n",
    "- Dependency injection\n",
    "The details of each bin packing algorithm implementation are unimportant to the user, and thus, the user does not need to be made aware of the internal functions that are ‘injected’ in each algorithm class. Only the _process() function of each algorithm matters, which is why this design implants dependency injection.\n",
    "\n",
    "#### Algorithms Explanation and Complexity Analysis\n",
    "\n",
    "- Next Fit\n",
    "This is the simplest approximate approach to the bin packing problem. This is an online algorithm in which the first item is assigned to the first bin. The weight stream is then considered by increasing indexes. If an item fits in the current bin, it is assigned to that bin. Otherwise, the next bin becomes the current one. The time complexity of the algorithm is O(n), as the algorithm only traverses the weight stream once.\n",
    "\n",
    "- Next Fit Decreasing\n",
    "This is an offline algorithm in which the weights are sorted first into decreasing order. Then, the Next Fit algorithm is applied as discussed above. The time complexity of the algorithm would be O(n + nlogn) which approximates to O(nlogn) since it will take O(nlogn) time to sort the list of weights first using timsort (Python’s default sorting algorithm).\n",
    "\n",
    "- First Fit \n",
    "This is an online algorithm which considers the weight stream according to increasing indices. It assigns each item to the lowest indexed initialized bin into which it fits. When the current item cannot fit into any of the previous initialized bins, a new bin is introduced and the item is assigned to that bin. The time complexity of the algorithm is O(n2), because it has to traverse the weight stream, but also has to loop through previous bins if needed. However, this time complexity can be reduced to O(nlogn) if a self balancing binary tree is used as the data structure.\n",
    "\n",
    "- First Fit Decreasing\n",
    "This is an offline algorithm in which the weights are sorted first into decreasing order. Then, the First Fit algorithm is applied as discussed above. The time complexity of the algorithm would be O(n2 + nlogn) which approximates to O(n2) since it will take O(nlogn) time to sort the list of weights first using timsort (Python’s default sorting algorithm). \n",
    "\n",
    "- Best Fit\n",
    "This is an online algorithm which considers the weight stream according to increasing indices. It  assigns each item to the feasible bin having the smallest space left but can still fit the item. Essentially, it will place each item in the tightest spot. The time complexity of the algorithm is O(n2), because it has to traverse the weight stream, but also has to loop through previous bins if needed in order to determine the tightest spot.\n",
    "\n",
    "-Best Fit Decreasing\n",
    "This is an offline algorithm in which the weights are sorted first into decreasing order. Then, the Best Fit algorithm is applied as discussed above. The time complexity of the algorithm would be O(n2 + nlogn) which approximates to O(n2) since it will take O(nlogn) time to sort the list of weights first using timsort (Python’s default sorting algorithm).\n",
    "\n",
    "- Worst Fit\n",
    "This is an online algorithm which considers the weight stream according to increasing indices. It assigns each item to the feasible bin having the most empty space. Essentially, it will place the item in the least tightest spot to even out the bins. The time complexity of the algorithm is O(n2), because it has to traverse the weight stream, but also has to loop through previous bins if needed in order to determine the least tight spot.\n",
    "\n",
    "- Worst Fit Decreasing\n",
    "This is an offline algorithm in which the weights are sorted first into decreasing order. Then, the Worst Fit algorithm is applied as discussed above. The time complexity of the algorithm would be O(n2 + nlogn) which approximates to O(n2) since it will take O(nlogn) time to sort the list of weights first using timsort (Python’s default sorting algorithm).\n",
    "\n",
    "#### T2: KPI Explanation and Analysis\n",
    "\n",
    "![title](\"graphs/comparisons_all.png\")"
   ]
  },
  {
   "cell_type": "markdown",
   "id": "b36dea3a",
   "metadata": {},
   "source": []
  },
  {
   "cell_type": "markdown",
   "id": "217aefb9-4bf5-4975-9e18-95718b2c47ca",
   "metadata": {
    "pycharm": {
     "name": "#%% md\n"
    }
   },
   "source": [
    "## Self-reflection questions"
   ]
  },
  {
   "cell_type": "markdown",
   "id": "4646f916-24c0-401a-ac38-7aee03e59bf7",
   "metadata": {
    "pycharm": {
     "name": "#%% md\n"
    }
   },
   "source": [
    "As part of the self-reflection dimension of an experiential course, each member of the group is expected to answer to the following four questions:\n",
    "\n",
    "  - What process did you go through to produce this result? (Backward)\n",
    "  - What were your standards for this piece of work? Did you meet your standards? (Inward)\n",
    "  - What the one thing you particularly want people to notice when they look at your work? (Outward)\n",
    "  - What lessons will you keep from this reading/lecture in your professional practice? (Forward)"
   ]
  }
 ],
 "metadata": {
  "kernelspec": {
   "display_name": "Python 3.10.0 64-bit",
   "language": "python",
   "name": "python3"
  },
  "language_info": {
   "codemirror_mode": {
    "name": "ipython",
    "version": 3
   },
   "file_extension": ".py",
   "mimetype": "text/x-python",
   "name": "python",
   "nbconvert_exporter": "python",
   "pygments_lexer": "ipython3",
   "version": "3.10.0"
  },
  "vscode": {
   "interpreter": {
    "hash": "aee8b7b246df8f9039afb4144a1f6fd8d2ca17a180786b69acc140d282b71a49"
   }
  }
 },
 "nbformat": 4,
 "nbformat_minor": 5
}
