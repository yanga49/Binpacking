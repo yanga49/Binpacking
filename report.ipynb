{
 "cells": [
  {
   "cell_type": "markdown",
   "id": "d0f21658-40c8-40c9-99d2-ec8c0b42e84f",
   "metadata": {
    "pycharm": {
     "name": "#%% md\n"
    }
   },
   "source": [
    "# Bin Packing Lab"
   ]
  },
  {
   "cell_type": "markdown",
   "id": "f9ffdec9-9fcb-4a7b-910e-abecc6352210",
   "metadata": {
    "pycharm": {
     "name": "#%% md\n"
    }
   },
   "source": [
    "- Authors:\n",
    "  - Akanksha Nehete, nehetea@mcmaster.ca\n",
    "  - Anna Yang, yanga49@mcmaster.ca\n",
    "  - Hamna Malik, malikh32@mcmaster.ca\n",
    "- Group ID on Avenue: 19 \n",
    "- Gitlab URL: https://gitlab.cas.mcmaster.ca/nehetea/l2-bin-packing"
   ]
  },
  {
   "cell_type": "markdown",
   "id": "61ba5415",
   "metadata": {},
   "source": [
    "# Library Demonstration"
   ]
  },
  {
   "cell_type": "code",
   "execution_count": 1,
   "id": "2166b346-058f-4619-9072-e6fbe608fa0e",
   "metadata": {
    "pycharm": {
     "name": "#%%\n"
    }
   },
   "outputs": [],
   "source": [
    "from macpacking.reader import DatasetReader, BinppReader, JburkardtReader\n",
    "from macpacking.model  import Online, Offline\n",
    "import macpacking.algorithms.offline as offline\n",
    "from macpacking.__init__ import WeightSet, WeightStream # remove this when submitting"
   ]
  },
  {
   "cell_type": "code",
   "execution_count": 2,
   "id": "21df8c2c-a6fa-434b-88c3-361404872819",
   "metadata": {
    "pycharm": {
     "name": "#%%\n"
    }
   },
   "outputs": [
    {
     "name": "stdout",
     "output_type": "stream",
     "text": [
      "Dataset: _datasets/binpp/N1C1W1/N1C1W1_A.BPP.txt\n",
      "  - Bin Capacity: 100\n",
      "  - Objects to pack: [3, 7, 7, 10, 11, 13, 14, 17, 20, 21, 22, 23, 24, 25, 27, 28, 28, 29, 30, 30, 33, 33, 40, 40, 42, 44, 46, 49, 51, 52, 56, 61, 62, 67, 67, 69, 72, 74, 76, 85, 86, 87, 88, 91, 92, 92, 96, 96, 99, 99]\n"
     ]
    }
   ],
   "source": [
    "dataset = '_datasets/binpp/N1C1W1/N1C1W1_A.BPP.txt'\n",
    "reader: DatasetReader = BinppReader(dataset)\n",
    "print(f'Dataset: {dataset}')\n",
    "print(f'  - Bin Capacity: {reader.offline()[0]}')\n",
    "print(f'  - Objects to pack: {sorted(reader.offline()[1])}')"
   ]
  },
  {
   "cell_type": "code",
   "execution_count": 3,
   "id": "8a0034c4",
   "metadata": {
    "pycharm": {
     "name": "#%%\n"
    }
   },
   "outputs": [
    {
     "name": "stdout",
     "output_type": "stream",
     "text": [
      "Dataset: _datasets/jburkardt/p04_c.txt, _datasets/jburkardt/p04_w.txt\n",
      "  - Bin Capacity: 524\n",
      "  - Objects to pack: [9, 9, 10, 10, 10, 10, 10, 10, 12, 12, 12, 37, 37, 46, 84, 85, 106, 106, 106, 106, 127, 127, 127, 127, 127, 252, 252, 252, 252, 252, 252, 252, 442]\n"
     ]
    }
   ],
   "source": [
    "# implementation of reader for jburkardt\n",
    "datasetc = '_datasets/jburkardt/p04_c.txt'\n",
    "datasetw = '_datasets/jburkardt/p04_w.txt'\n",
    "reader: DatasetReader = JburkardtReader(datasetw, datasetc)\n",
    "print(f'Dataset: {datasetc}, {datasetw}')\n",
    "print(f'  - Bin Capacity: {reader.offline()[0]}')\n",
    "print(f'  - Objects to pack: {sorted(reader.offline()[1])}')"
   ]
  },
  {
   "cell_type": "code",
   "execution_count": 4,
   "id": "6358d7c1-1777-4c63-af33-d4ebfea952a7",
   "metadata": {
    "pycharm": {
     "name": "#%%\n"
    }
   },
   "outputs": [
    {
     "name": "stdout",
     "output_type": "stream",
     "text": [
      "nb_bins = 8\n",
      "[[10, 9, 9], [106, 106, 106, 85, 84, 37], [127, 127, 127, 106, 37], [252, 127, 127, 12], [252, 252, 10, 10], [252, 252, 12], [252, 252, 12], [442, 46, 10, 10, 10]]\n"
     ]
    }
   ],
   "source": [
    "# finding the optimal solution using baseline\n",
    "import macpacking.algorithms.baseline as baseline\n",
    "strategy: Offline = baseline.BenMaier()\n",
    "result = strategy(reader.offline())\n",
    "print(f'nb_bins = {len(result)}')\n",
    "print(f'{sorted(result)}')"
   ]
  },
  {
   "cell_type": "code",
   "execution_count": 5,
   "id": "e49e56a6",
   "metadata": {},
   "outputs": [
    {
     "name": "stdout",
     "output_type": "stream",
     "text": [
      "nb_bins = 5\n",
      "[[252, 127, 127, 106, 85, 12, 12, 10], [252, 252, 106, 106, 10, 9], [252, 252, 127, 46, 37, 10, 10], [252, 252, 127, 84, 10, 9], [442, 127, 106, 37, 12, 10]]\n"
     ]
    }
   ],
   "source": [
    "# demonstrating the baseline integrated using the to_constant_volume() function in the binpacking library\n",
    "import macpacking.algorithms.baseline as baseline\n",
    "# initializing number of bins by passing argument into ConstantBinNumber\n",
    "strategy: Offline = baseline.ConstantBinNumber(num_bins=5)\n",
    "result = strategy(reader.offline())\n",
    "print(f'nb_bins = {len(result)}')\n",
    "print(f'{sorted(result)}')"
   ]
  },
  {
   "cell_type": "code",
   "execution_count": 6,
   "id": "a5dd65fc",
   "metadata": {},
   "outputs": [
    {
     "name": "stdout",
     "output_type": "stream",
     "text": [
      "nb_bins = 5\n",
      "[[10, 37, 106, 12, 127, 252, 12, 252], [10, 127, 46, 10, 12, 252, 10, 9, 127, 252], [106, 127, 442], [127, 106, 10, 9, 84, 85, 10, 252], [252, 106, 37, 252]]\n"
     ]
    }
   ],
   "source": [
    "# demonstrating the Greedy Algorithm compares with the baseline for multiway number partitioning\n",
    "import macpacking.algorithms.online as online\n",
    "strategy: Offline = offline.GreedyHeuristic(num_bins=5)\n",
    "result = strategy(reader.offline())\n",
    "print(f'nb_bins = {len(result[\"solution\"])}')\n",
    "print(f'{sorted(result[\"solution\"])}')\n"
   ]
  },
  {
   "cell_type": "code",
   "execution_count": 7,
   "id": "fd41ee02",
   "metadata": {},
   "outputs": [
    {
     "name": "stdout",
     "output_type": "stream",
     "text": [
      "nb_bins = 8\n",
      "[[46, 37, 37, 12, 12, 12, 10, 10, 10, 10, 10, 10, 9, 9], [106, 106, 106, 85, 84], [127, 127, 127, 106], [252, 127, 127], [252, 252], [252, 252], [252, 252], [442]]\n"
     ]
    }
   ],
   "source": [
    "# demonstrating usage of offline version of NextFit algorithm\n",
    "import macpacking.algorithms.online as online\n",
    "strategy: Offline = offline.NextFitDecreasing()\n",
    "result = strategy(reader.offline())\n",
    "print(f'nb_bins = {len(result[\"solution\"])}')\n",
    "print(f'{sorted(result[\"solution\"])}')"
   ]
  },
  {
   "cell_type": "code",
   "execution_count": 8,
   "id": "bd49172b",
   "metadata": {},
   "outputs": [
    {
     "name": "stdout",
     "output_type": "stream",
     "text": [
      "nb_bins = 8\n",
      "[[10, 252, 127, 106, 10], [46, 12, 127, 10, 12, 252, 10], [85, 37, 252, 10], [106, 84, 252], [127, 37, 106, 127, 106], [252, 10, 9, 127, 12], [252, 252], [442, 9]]\n"
     ]
    }
   ],
   "source": [
    "# demonstrating usage of online version of NextFit algorithm\n",
    "import macpacking.algorithms.online as online\n",
    "strategy: Online = online.NextFit()\n",
    "result = strategy(reader.offline())\n",
    "print(f'nb_bins = {len(result[\"solution\"])}')\n",
    "print(f'{sorted(result[\"solution\"])}')"
   ]
  },
  {
   "cell_type": "code",
   "execution_count": 9,
   "id": "9d603303",
   "metadata": {},
   "outputs": [
    {
     "name": "stdout",
     "output_type": "stream",
     "text": [
      "nb_bins = 7\n",
      "[[106, 106, 106, 85, 84, 37], [127, 127, 127, 106, 37], [252, 127, 127, 9, 9], [252, 252, 10, 10], [252, 252, 10, 10], [252, 252, 10, 10], [442, 46, 12, 12, 12]]\n"
     ]
    }
   ],
   "source": [
    "# demonstrating usage of offline version of FirstFit algorithm\n",
    "import macpacking.algorithms.offline as offline\n",
    "strategy: Offline = offline.FirstFitDecreasing()\n",
    "result = strategy(reader.online())\n",
    "print(f'nb_bins = {len(result[\"solution\"])}')\n",
    "print(f'{sorted(result[\"solution\"])}')"
   ]
  },
  {
   "cell_type": "code",
   "execution_count": 10,
   "id": "8d9ebae6",
   "metadata": {},
   "outputs": [
    {
     "name": "stdout",
     "output_type": "stream",
     "text": [
      "nb_bins = 8\n",
      "[[10, 252, 127, 106, 10, 12], [46, 127, 12, 252, 9, 37, 10, 10, 9, 12], [85, 252, 127], [106, 84, 252], [127, 37, 106, 127, 106, 10, 10], [252], [252, 252], [442]]\n"
     ]
    }
   ],
   "source": [
    "# demonstrating usage of online version of FirstFit algorithm\n",
    "import macpacking.algorithms.online as online\n",
    "strategy: Online = online.FirstFit()\n",
    "result = strategy(reader.online())\n",
    "print(f'nb_bins = {len(result[\"solution\"])}')\n",
    "print(f'{sorted(result[\"solution\"])}')"
   ]
  },
  {
   "cell_type": "code",
   "execution_count": 11,
   "id": "c79d401f",
   "metadata": {},
   "outputs": [
    {
     "name": "stdout",
     "output_type": "stream",
     "text": [
      "nb_bins = 8\n",
      "[[10, 9, 9], [106, 106, 106, 85, 84, 37], [127, 127, 127, 106, 37], [252, 127, 127, 12], [252, 252, 10, 10], [252, 252, 12], [252, 252, 12], [442, 46, 10, 10, 10]]\n"
     ]
    }
   ],
   "source": [
    "# demonstrating usage of offline version of BestFit algorithm\n",
    "import macpacking.algorithms.offline as offline\n",
    "strategy: Offline = offline.BestFitDecreasing()\n",
    "result = strategy(reader.online())\n",
    "print(f'nb_bins = {len(result[\"solution\"])}')\n",
    "print(f'{sorted(result[\"solution\"])}')"
   ]
  },
  {
   "cell_type": "code",
   "execution_count": 12,
   "id": "1dc1ff1b",
   "metadata": {},
   "outputs": [
    {
     "name": "stdout",
     "output_type": "stream",
     "text": [
      "nb_bins = 8\n",
      "[[10, 252, 127, 106, 10, 12], [46, 127, 12, 252, 84], [106, 252, 85], [127, 37, 106, 127, 106, 10, 10], [127, 252], [252], [252, 252, 10, 9], [442, 9, 37, 10, 12]]\n"
     ]
    }
   ],
   "source": [
    "# demonstrating usage of online version of BestFit algorithm\n",
    "import macpacking.algorithms.online as online\n",
    "strategy: Online = online.BestFit()\n",
    "result = strategy(reader.online())\n",
    "print(f'nb_bins = {len(result[\"solution\"])}')\n",
    "print(f'{sorted(result[\"solution\"])}')"
   ]
  },
  {
   "cell_type": "code",
   "execution_count": 13,
   "id": "3b8891b2",
   "metadata": {},
   "outputs": [
    {
     "name": "stdout",
     "output_type": "stream",
     "text": [
      "nb_bins = 8\n",
      "[[9, 9], [106, 106, 106, 85, 84, 37], [127, 127, 127, 106, 37], [252, 127, 127, 10], [252, 252, 10, 10], [252, 252, 10, 10], [252, 252, 12], [442, 46, 12, 12, 10]]\n"
     ]
    }
   ],
   "source": [
    "# demonstrating usage of offline version of WorstFit algorithm\n",
    "import macpacking.algorithms.offline as offline\n",
    "strategy: Offline = offline.WorstFitDecreasing()\n",
    "result = strategy(reader.online())\n",
    "print(f'nb_bins = {len(result[\"solution\"])}')\n",
    "print(f'{sorted(result[\"solution\"])}')"
   ]
  },
  {
   "cell_type": "code",
   "execution_count": 14,
   "id": "89a99f24",
   "metadata": {},
   "outputs": [
    {
     "name": "stdout",
     "output_type": "stream",
     "text": [
      "nb_bins = 8\n",
      "[[10, 252, 127, 106, 10], [46, 12, 127, 10, 12, 252, 10], [85, 37, 252, 10, 12], [106, 84, 252], [127, 37, 106, 127, 106], [252, 10, 9, 127], [252, 252], [442, 9]]\n"
     ]
    }
   ],
   "source": [
    "# demonstrating usage of online version of WorstFit algorithm\n",
    "import macpacking.algorithms.online as online\n",
    "strategy: Online = online.WorstFit()\n",
    "result = strategy(reader.online())\n",
    "print(f'nb_bins = {len(result[\"solution\"])}')\n",
    "print(f'{sorted(result[\"solution\"])}')"
   ]
  },
  {
   "cell_type": "code",
   "execution_count": 15,
   "id": "32979df7",
   "metadata": {},
   "outputs": [
    {
     "name": "stdout",
     "output_type": "stream",
     "text": [
      "nb_bins = 8\n",
      "[[10, 127, 106, 10, 127, 37, 106], [106, 84, 85, 9, 127, 12], [127, 106, 46, 12, 127, 10, 12, 10, 9, 37, 10, 10], [252], [252, 252], [252, 252], [252, 252], [442]]\n"
     ]
    }
   ],
   "source": [
    "# demonstrating usage of online version of the Refined First Fit algorithm\n",
    "import macpacking.algorithms.online as online\n",
    "strategy: Online = online.RefinedFirstFit()\n",
    "result = strategy(reader.online())\n",
    "print(f'nb_bins = {len(result)}')\n",
    "print(f'{sorted(result)}')"
   ]
  },
  {
   "cell_type": "code",
   "execution_count": 16,
   "id": "73e68be4",
   "metadata": {},
   "outputs": [
    {
     "name": "stdout",
     "output_type": "stream",
     "text": [
      "nb_bins = 8\n",
      "[[106, 85, 84, 37, 37, 10, 10, 10, 10, 10, 10, 9], [127, 106, 106, 106, 46, 12, 12, 9], [127, 127, 127, 127, 12], [252], [252, 252], [252, 252], [252, 252], [442]]\n"
     ]
    }
   ],
   "source": [
    "# demonstrating usage of offline version of the Refined First Fit algorithm\n",
    "import macpacking.algorithms.offline as offline\n",
    "strategy: Offline = offline.RefinedFirstFitDecreasing()\n",
    "result = strategy(reader.online())\n",
    "print(f'nb_bins = {len(result)}')\n",
    "print(f'{sorted(result)}')"
   ]
  },
  {
   "cell_type": "markdown",
   "id": "7a130e43",
   "metadata": {},
   "source": [
    "# Report"
   ]
  },
  {
   "cell_type": "markdown",
   "id": "aabe0579",
   "metadata": {},
   "source": []
  },
  {
   "cell_type": "markdown",
   "id": "217aefb9-4bf5-4975-9e18-95718b2c47ca",
   "metadata": {
    "pycharm": {
     "name": "#%% md\n"
    }
   },
   "source": [
    "## Self-reflection questions"
   ]
  },
  {
   "cell_type": "markdown",
   "id": "4646f916-24c0-401a-ac38-7aee03e59bf7",
   "metadata": {
    "pycharm": {
     "name": "#%% md\n"
    }
   },
   "source": [
    "As part of the self-reflection dimension of an experiential course, each member of the group is expected to answer to the following four questions:\n",
    "\n",
    "  - What process did you go through to produce this result? (Backward)\n",
    "  - What were your standards for this piece of work? Did you meet your standards? (Inward)\n",
    "  - What the one thing you particularly want people to notice when they look at your work? (Outward)\n",
    "  - What lessons will you keep from this reading/lecture in your professional practice? (Forward)"
   ]
  }
 ],
 "metadata": {
  "kernelspec": {
   "display_name": "Python 3.10.0 64-bit",
   "language": "python",
   "name": "python3"
  },
  "language_info": {
   "codemirror_mode": {
    "name": "ipython",
    "version": 3
   },
   "file_extension": ".py",
   "mimetype": "text/x-python",
   "name": "python",
   "nbconvert_exporter": "python",
   "pygments_lexer": "ipython3",
   "version": "3.10.0"
  },
  "vscode": {
   "interpreter": {
    "hash": "aee8b7b246df8f9039afb4144a1f6fd8d2ca17a180786b69acc140d282b71a49"
   }
  }
 },
 "nbformat": 4,
 "nbformat_minor": 5
}
