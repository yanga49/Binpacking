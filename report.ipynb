{
 "cells": [
  {
   "cell_type": "markdown",
   "id": "d0f21658-40c8-40c9-99d2-ec8c0b42e84f",
   "metadata": {
    "pycharm": {
     "name": "#%% md\n"
    }
   },
   "source": [
    "# Bin Packing Lab"
   ]
  },
  {
   "cell_type": "markdown",
   "id": "f9ffdec9-9fcb-4a7b-910e-abecc6352210",
   "metadata": {
    "pycharm": {
     "name": "#%% md\n"
    }
   },
   "source": [
    "- Authors:\n",
    "  - Akanksha Nehete, nehetea@mcmaster.ca\n",
    "  - Anna Yang, yanga49@mcmaster.ca\n",
    "  - Hamna Malik, \n",
    "- Group ID on Avenue: 19 \n",
    "- Gitlab URL:"
   ]
  },
  {
   "cell_type": "markdown",
   "id": "fcb763d5-aa1a-4ef1-a6ba-e3cbaae313aa",
   "metadata": {
    "pycharm": {
     "name": "#%% md\n"
    }
   },
   "source": [
    "## How to use the provided code?"
   ]
  },
  {
   "cell_type": "markdown",
   "id": "a0308135-ad12-4563-92b8-45681d3e90a2",
   "metadata": {
    "pycharm": {
     "name": "#%% md\n"
    }
   },
   "source": [
    "_(this section is just here for information, you can get rid of it in your own report)_"
   ]
  },
  {
   "cell_type": "code",
   "execution_count": 14,
   "id": "2166b346-058f-4619-9072-e6fbe608fa0e",
   "metadata": {
    "pycharm": {
     "name": "#%%\n"
    }
   },
   "outputs": [],
   "source": [
    "from macpacking.reader import DatasetReader, BinppReader, JburkardtReader\n",
    "from macpacking.model  import Online, Offline\n",
    "import macpacking.algorithms.offline as offline"
   ]
  },
  {
   "cell_type": "markdown",
   "id": "5fe23917-cc5c-4883-9a2a-581f3fbb2ba4",
   "metadata": {
    "pycharm": {
     "name": "#%% md\n"
    }
   },
   "source": [
    "Now that the business code is imported, we can load an existing dataset"
   ]
  },
  {
   "cell_type": "code",
   "execution_count": 15,
   "id": "21df8c2c-a6fa-434b-88c3-361404872819",
   "metadata": {
    "pycharm": {
     "name": "#%%\n"
    }
   },
   "outputs": [
    {
     "name": "stdout",
     "output_type": "stream",
     "text": [
      "Dataset: _datasets/binpp/N1C1W1/N1C1W1_A.BPP.txt\n",
      "  - Bin Capacity: 100\n",
      "  - Objects to pack: [3, 7, 7, 10, 11, 13, 14, 17, 20, 21, 22, 23, 24, 25, 27, 28, 28, 29, 30, 30, 33, 33, 40, 40, 42, 44, 46, 49, 51, 52, 56, 61, 62, 67, 67, 69, 72, 74, 76, 85, 86, 87, 88, 91, 92, 92, 96, 96, 99, 99]\n"
     ]
    }
   ],
   "source": [
    "dataset = '_datasets/binpp/N1C1W1/N1C1W1_A.BPP.txt'\n",
    "reader: DatasetReader = BinppReader(dataset)\n",
    "print(f'Dataset: {dataset}')\n",
    "print(f'  - Bin Capacity: {reader.offline()[0]}')\n",
    "print(f'  - Objects to pack: {sorted(reader.offline()[1])}')"
   ]
  },
  {
   "cell_type": "code",
   "execution_count": 16,
   "id": "8a0034c4",
   "metadata": {
    "pycharm": {
     "name": "#%%\n"
    }
   },
   "outputs": [],
   "source": [
    "# # implementation of reader for jburkardt\n",
    "# datasetc = '_datasets/jburkardt/p01_c.txt'\n",
    "# datasetw = '_datasets/jburkardt/p02_w.txt'\n",
    "# reader: DatasetReader = JburkardtReader(datasetw, datasetc)\n",
    "# print(f'Dataset: {datasetc}, {datasetw}')\n",
    "# print(f'  - Bin Capacity: {reader.offline()[0]}')\n",
    "# print(f'  - Objects to pack: {sorted(reader.offline()[1])}')"
   ]
  },
  {
   "cell_type": "markdown",
   "id": "0ec54798-4c40-4a2c-a88f-59d6da87975e",
   "metadata": {
    "pycharm": {
     "name": "#%% md\n"
    }
   },
   "source": [
    "Acording to the `oracle.xslx` file, we now that the optimal solution for this case is to use _31_ bins. Let's call the baseline algorithm, which is an offline one, and see how it performs."
   ]
  },
  {
   "cell_type": "code",
   "execution_count": 17,
   "id": "6358d7c1-1777-4c63-af33-d4ebfea952a7",
   "metadata": {
    "pycharm": {
     "name": "#%%\n"
    }
   },
   "outputs": [],
   "source": [
    "# import macpacking.algorithms.baseline as baseline\n",
    "# strategy: Offline = baseline.BenMaier()\n",
    "# result = strategy(reader.offline())\n",
    "# print(f'nb_bins = {len(result)}')\n",
    "# print(f'{sorted(result)}')"
   ]
  },
  {
   "cell_type": "markdown",
   "id": "74e4777c-bd24-4d4f-a3bc-8465cc5ec346",
   "metadata": {
    "pycharm": {
     "name": "#%% md\n"
    }
   },
   "source": [
    "So the baseline finds the optimal solution. That's good news! Let's call our very own version of `NextFit`, as an offline algorithm."
   ]
  },
  {
   "cell_type": "code",
   "execution_count": 18,
   "id": "300c2945-fb05-4ab7-9f63-78568bb2f666",
   "metadata": {
    "pycharm": {
     "name": "#%%\n"
    }
   },
   "outputs": [
    {
     "name": "stdout",
     "output_type": "stream",
     "text": [
      "nb_bins = 30\n",
      "[[13, 11, 10, 7, 7, 3], [22, 21, 20, 17, 14], [27, 25, 24, 23], [29, 28, 28], [33, 30, 30], [40, 33], [42, 40], [46, 44], [51, 49], [52], [56], [61], [62], [67], [67], [69], [72], [74], [76], [85], [86], [87], [88], [91], [92], [92], [96], [96], [99], [99]]\n"
     ]
    }
   ],
   "source": [
    "import macpacking.algorithms.online as online\n",
    "strategy: Offline = offline.NextFit()\n",
    "result = strategy(reader.offline())\n",
    "print(f'nb_bins = {len(result)}')\n",
    "print(f'{sorted(result)}')"
   ]
  },
  {
   "cell_type": "markdown",
   "id": "10828372-717e-4a8e-bce5-bdb6781ba33f",
   "metadata": {
    "pycharm": {
     "name": "#%% md\n"
    }
   },
   "source": [
    "Damn it, this algorithm is 4 bins far from the optimal solution! Let's try an online version. Usually, they perform worst, so let's measure it."
   ]
  },
  {
   "cell_type": "markdown",
   "id": "c523a4f3-6957-4963-ae74-f0009a66d204",
   "metadata": {
    "pycharm": {
     "name": "#%% md\n"
    }
   },
   "source": [
    "As expected, the online version is worst!"
   ]
  },
  {
   "cell_type": "code",
   "execution_count": 19,
   "id": "fd41ee02",
   "metadata": {},
   "outputs": [
    {
     "name": "stdout",
     "output_type": "stream",
     "text": [
      "nb_bins = 30\n",
      "[[13, 11, 10, 7, 7, 3], [22, 21, 20, 17, 14], [27, 25, 24, 23], [29, 28, 28], [33, 30, 30], [40, 33], [42, 40], [46, 44], [51, 49], [52], [56], [61], [62], [67], [67], [69], [72], [74], [76], [85], [86], [87], [88], [91], [92], [92], [96], [96], [99], [99]]\n"
     ]
    }
   ],
   "source": [
    "# demonstrating usage of offline version of NextFit algorithm\n",
    "import macpacking.algorithms.online as online\n",
    "strategy: Offline = offline.NextFit()\n",
    "result = strategy(reader.offline())\n",
    "print(f'nb_bins = {len(result)}')\n",
    "print(f'{sorted(result)}')"
   ]
  },
  {
   "cell_type": "code",
   "execution_count": 20,
   "id": "1bc96aa8",
   "metadata": {},
   "outputs": [
    {
     "name": "stdout",
     "output_type": "stream",
     "text": [
      "nb_bins = 32\n",
      "[[11, 40], [14, 61], [21], [22, 23], [25, 29, 13], [28], [28, 7, 20, 30], [30, 51], [33, 52], [33, 67], [40, 24], [42, 46], [44, 27], [49, 17, 10], [56], [62], [67], [69], [72, 3, 7], [74], [76], [85], [86], [87], [88], [91], [92], [92], [96], [96], [99], [99]]\n"
     ]
    }
   ],
   "source": [
    "# demonstrating usage of online version of NextFit algorithm\n",
    "import macpacking.algorithms.online as online\n",
    "strategy: Online = online.NextFit()\n",
    "result = strategy(reader.offline())\n",
    "print(f'nb_bins = {len(result)}')\n",
    "print(f'{sorted(result)}')"
   ]
  },
  {
   "cell_type": "code",
   "execution_count": 21,
   "id": "9d603303",
   "metadata": {},
   "outputs": [
    {
     "name": "stdout",
     "output_type": "stream",
     "text": [
      "nb_bins = 25\n",
      "[[23, 22, 21, 20], [40, 28, 27], [42, 40, 17], [51, 49], [52, 46], [56, 44], [61, 29], [62, 30], [67, 33], [67, 33], [69, 30], [72, 28], [74, 25], [76, 24], [85, 10], [86, 14], [87, 13], [88, 11], [91], [92, 7], [92, 7], [96], [96, 3], [99], [99]]\n"
     ]
    }
   ],
   "source": [
    "# demonstrating usage of offline version of FirstFit algorithm\n",
    "import macpacking.algorithms.offline as offline\n",
    "strategy: Offline = offline.FirstFitDecreasing()\n",
    "result = strategy(reader.online())\n",
    "print(f'nb_bins = {len(result)}')\n",
    "print(f'{sorted(result)}')"
   ]
  },
  {
   "cell_type": "code",
   "execution_count": 22,
   "id": "8d9ebae6",
   "metadata": {},
   "outputs": [
    {
     "name": "stdout",
     "output_type": "stream",
     "text": [
      "nb_bins = 26\n",
      "[[28, 69], [30, 33, 25, 7], [30, 51, 17], [33, 67], [42, 46, 11], [44, 27, 28], [49, 40], [52, 29], [56, 40, 3], [61, 20, 13], [62], [67, 21], [72, 24], [74, 23], [76, 22], [85, 10], [86, 14], [87], [88], [91], [92], [92, 7], [96], [96], [99], [99]]\n"
     ]
    }
   ],
   "source": [
    "# demonstrating usage of online version of FirstFit algorithm\n",
    "import macpacking.algorithms.online as online\n",
    "strategy: Online = online.FirstFit()\n",
    "result = strategy(reader.online())\n",
    "print(f'nb_bins = {len(result)}')\n",
    "print(f'{sorted(result)}')"
   ]
  },
  {
   "cell_type": "code",
   "execution_count": 23,
   "id": "c79d401f",
   "metadata": {},
   "outputs": [
    {
     "name": "stdout",
     "output_type": "stream",
     "text": [
      "nb_bins = 25\n",
      "[[23, 22, 21, 20, 17, 14, 13, 11, 10, 7, 7, 3], [40, 33, 33, 30, 30, 29, 28, 28, 27, 25, 24], [42, 40], [51, 49, 46, 44], [52], [56], [61], [62], [67], [67], [69], [72], [74], [76], [85], [86], [87], [88], [91], [92], [92], [96], [96], [99], [99]]\n"
     ]
    }
   ],
   "source": [
    "# demonstrating usage of offline version of BestFit algorithm\n",
    "import macpacking.algorithms.offline as offline\n",
    "strategy: Offline = offline.BestFitDecreasing()\n",
    "result = strategy(reader.online())\n",
    "print(f'nb_bins = {len(result)}')\n",
    "print(f'{sorted(result)}')"
   ]
  },
  {
   "cell_type": "code",
   "execution_count": 24,
   "id": "1dc1ff1b",
   "metadata": {},
   "outputs": [
    {
     "name": "stdout",
     "output_type": "stream",
     "text": [
      "nb_bins = 26\n",
      "[[28], [30, 33], [30, 51], [33, 67], [42, 46], [44, 27], [49, 17, 10, 25, 29, 13], [52], [56], [61, 28, 7, 20], [62], [67], [72, 3, 7], [74], [76], [85], [86], [87, 69], [88, 21], [91], [92], [92, 11, 40], [96, 22, 23], [96, 40, 24], [99], [99, 14]]\n"
     ]
    }
   ],
   "source": [
    "# demonstrating usage of online version of BestFit algorithm\n",
    "import macpacking.algorithms.online as online\n",
    "strategy: Online = online.BestFit()\n",
    "result = strategy(reader.online())\n",
    "print(f'nb_bins = {len(result)}')\n",
    "print(f'{sorted(result)}')"
   ]
  },
  {
   "cell_type": "code",
   "execution_count": 25,
   "id": "3b8891b2",
   "metadata": {},
   "outputs": [
    {
     "name": "stdout",
     "output_type": "stream",
     "text": [
      "nb_bins = 25\n",
      "[[23, 22, 21, 20, 17, 14, 13, 11, 10, 7, 7, 3], [40, 33, 33, 30, 30, 29, 28, 28, 27, 25, 24], [42, 40], [51, 49, 46, 44], [52], [56], [61], [62], [67], [67], [69], [72], [74], [76], [85], [86], [87], [88], [91], [92], [92], [96], [96], [99], [99]]\n"
     ]
    }
   ],
   "source": [
    "# demonstrating usage of offline version of WorstFit algorithm\n",
    "import macpacking.algorithms.offline as offline\n",
    "strategy: Offline = offline.WorstFitDecreasing()\n",
    "result = strategy(reader.online())\n",
    "print(f'nb_bins = {len(result)}')\n",
    "print(f'{sorted(result)}')"
   ]
  },
  {
   "cell_type": "code",
   "execution_count": 26,
   "id": "89a99f24",
   "metadata": {},
   "outputs": [
    {
     "name": "stdout",
     "output_type": "stream",
     "text": [
      "nb_bins = 28\n",
      "[[30, 33], [40], [40, 24], [42, 46], [44, 27], [49, 17, 10, 25, 29, 13], [51], [52], [56], [61, 28, 7, 20], [62], [67], [67, 30], [69], [72, 3, 7], [74], [76], [85], [86, 33], [87], [88, 21], [91], [92, 11], [92, 28], [96], [96, 22, 23], [99], [99, 14]]\n"
     ]
    }
   ],
   "source": [
    "# demonstrating usage of online version of WorstFit algorithm\n",
    "import macpacking.algorithms.online as online\n",
    "strategy: Online = online.WorstFit()\n",
    "result = strategy(reader.online())\n",
    "print(f'nb_bins = {len(result)}')\n",
    "print(f'{sorted(result)}')"
   ]
  },
  {
   "cell_type": "markdown",
   "id": "217aefb9-4bf5-4975-9e18-95718b2c47ca",
   "metadata": {
    "pycharm": {
     "name": "#%% md\n"
    }
   },
   "source": [
    "## Self-reflection questions"
   ]
  },
  {
   "cell_type": "markdown",
   "id": "4646f916-24c0-401a-ac38-7aee03e59bf7",
   "metadata": {
    "pycharm": {
     "name": "#%% md\n"
    }
   },
   "source": [
    "As part of the self-reflection dimension of an experiential course, each member of the group is expected to answer to the following four questions:\n",
    "\n",
    "  - What process did you go through to produce this result? (Backward)\n",
    "  - What were your standards for this piece of work? Did you meet your standards? (Inward)\n",
    "  - What the one thing you particularly want people to notice when they look at your work? (Outward)\n",
    "  - What lessons will you keep from this reading/lecture in your professional practice? (Forward)"
   ]
  }
 ],
 "metadata": {
  "kernelspec": {
   "display_name": "Python 3.10.0 64-bit",
   "language": "python",
   "name": "python3"
  },
  "language_info": {
   "codemirror_mode": {
    "name": "ipython",
    "version": 3
   },
   "file_extension": ".py",
   "mimetype": "text/x-python",
   "name": "python",
   "nbconvert_exporter": "python",
   "pygments_lexer": "ipython3",
   "version": "3.10.0"
  },
  "vscode": {
   "interpreter": {
    "hash": "aee8b7b246df8f9039afb4144a1f6fd8d2ca17a180786b69acc140d282b71a49"
   }
  }
 },
 "nbformat": 4,
 "nbformat_minor": 5
}
